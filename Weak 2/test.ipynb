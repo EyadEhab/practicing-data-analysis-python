{
  "cells": [
    {
      "cell_type": "markdown",
      "id": "438dc8aa",
      "metadata": {
        "id": "438dc8aa"
      },
      "source": [
        "# Taking input() and print() output"
      ]
    },
    {
      "cell_type": "code",
      "execution_count": null,
      "id": "552a79c8",
      "metadata": {
        "colab": {
          "base_uri": "https://localhost:8080/"
        },
        "id": "552a79c8",
        "outputId": "60f81e9d-b0e9-47d0-9448-8e8b81c04005"
      },
      "outputs": [
        {
          "ename": "ModuleNotFoundError",
          "evalue": "No module named 'cryptography'",
          "output_type": "error",
          "traceback": [
            "\u001b[0;31m---------------------------------------------------------------------------\u001b[0m",
            "\u001b[0;31mModuleNotFoundError\u001b[0m                       Traceback (most recent call last)",
            "Cell \u001b[0;32mIn[1], line 1\u001b[0m\n\u001b[0;32m----> 1\u001b[0m \u001b[38;5;28;01mfrom\u001b[39;00m \u001b[38;5;21;01mcryptography\u001b[39;00m\u001b[38;5;21;01m.\u001b[39;00m\u001b[38;5;21;01mhazmat\u001b[39;00m\u001b[38;5;21;01m.\u001b[39;00m\u001b[38;5;21;01mprimitives\u001b[39;00m\u001b[38;5;21;01m.\u001b[39;00m\u001b[38;5;21;01masymmetric\u001b[39;00m \u001b[38;5;28;01mimport\u001b[39;00m rsa, padding\n\u001b[1;32m      2\u001b[0m \u001b[38;5;28;01mfrom\u001b[39;00m \u001b[38;5;21;01mcryptography\u001b[39;00m\u001b[38;5;21;01m.\u001b[39;00m\u001b[38;5;21;01mhazmat\u001b[39;00m\u001b[38;5;21;01m.\u001b[39;00m\u001b[38;5;21;01mprimitives\u001b[39;00m \u001b[38;5;28;01mimport\u001b[39;00m serialization, hashes\n\u001b[1;32m      4\u001b[0m \u001b[38;5;66;03m# Generate RSA keys\u001b[39;00m\n",
            "\u001b[0;31mModuleNotFoundError\u001b[0m: No module named 'cryptography'"
          ]
        }
      ],
      "source": [
        "name = input(\"What's your name?\")\n",
        "print(\"Hello \" + name)"
      ]
    },
    {
      "cell_type": "markdown",
      "id": "6293c1ad",
      "metadata": {
        "id": "6293c1ad"
      },
      "source": [
        "# Arithmetic Operations"
      ]
    },
    {
      "cell_type": "code",
      "execution_count": 1,
      "id": "6a0de5fb",
      "metadata": {
        "colab": {
          "base_uri": "https://localhost:8080/"
        },
        "id": "6a0de5fb",
        "outputId": "98fad1c2-25e1-4546-a126-56b607f0f43a"
      },
      "outputs": [
        {
          "name": "stdout",
          "output_type": "stream",
          "text": [
            "7\n",
            "1\n",
            "12\n",
            "64\n",
            "3.3333333333333335\n",
            "1\n",
            "1.5\n"
          ]
        }
      ],
      "source": [
        "print(4+3)\n",
        "\n",
        "print(4-3)\n",
        "\n",
        "print(4*3)\n",
        "\n",
        "print(4**3)\n",
        "\n",
        "print(10/3)\n",
        "\n",
        "print(7//4)\n",
        "\n",
        "print(7.5%3)"
      ]
    },
    {
      "cell_type": "code",
      "execution_count": 2,
      "id": "-Hr6fw_JyxJI",
      "metadata": {
        "colab": {
          "base_uri": "https://localhost:8080/",
          "height": 106
        },
        "id": "-Hr6fw_JyxJI",
        "outputId": "094943c6-b2da-4f46-e7b4-65b0900a0e28"
      },
      "outputs": [
        {
          "ename": "SyntaxError",
          "evalue": "incomplete input (2461225398.py, line 1)",
          "output_type": "error",
          "traceback": [
            "\u001b[0;36m  Cell \u001b[0;32mIn[2], line 1\u001b[0;36m\u001b[0m\n\u001b[0;31m    if aaaaaa:\u001b[0m\n\u001b[0m              ^\u001b[0m\n\u001b[0;31mSyntaxError\u001b[0m\u001b[0;31m:\u001b[0m incomplete input\n"
          ]
        }
      ],
      "source": [
        "if aaaaaa:\n"
      ]
    },
    {
      "cell_type": "code",
      "execution_count": 3,
      "id": "cSEbLMDpyc0y",
      "metadata": {
        "colab": {
          "base_uri": "https://localhost:8080/"
        },
        "id": "cSEbLMDpyc0y",
        "outputId": "1bd26e16-b9c4-4dcf-90d5-4e48583383fc"
      },
      "outputs": [
        {
          "name": "stdout",
          "output_type": "stream",
          "text": [
            "3.3333333333333335\n",
            "3\n"
          ]
        }
      ],
      "source": [
        "print(10/3)\n",
        "\n",
        "print(10//3)"
      ]
    },
    {
      "cell_type": "markdown",
      "id": "d589cbcd",
      "metadata": {
        "id": "d589cbcd"
      },
      "source": [
        "# Condition: if elif else"
      ]
    },
    {
      "cell_type": "code",
      "execution_count": 4,
      "id": "998a02fd",
      "metadata": {
        "colab": {
          "base_uri": "https://localhost:8080/"
        },
        "id": "998a02fd",
        "outputId": "01ca8727-827f-496a-963e-ef967239a64b"
      },
      "outputs": [
        {
          "name": "stdout",
          "output_type": "stream",
          "text": [
            "Zero\n",
            "This statement is always executed\n"
          ]
        }
      ],
      "source": [
        "number = 0\n",
        "\n",
        "if number > 0 and number%2==0 :\n",
        "    print('Positive number')\n",
        "\n",
        "elif number <0:\n",
        "    print('Negative number')\n",
        "\n",
        "else:\n",
        "    print('Zero')\n",
        "    print('This statement is always executed')"
      ]
    },
    {
      "cell_type": "markdown",
      "id": "09a7dadd",
      "metadata": {
        "id": "09a7dadd"
      },
      "source": [
        "# Lists"
      ]
    },
    {
      "cell_type": "code",
      "execution_count": 8,
      "id": "8702ab60",
      "metadata": {
        "colab": {
          "base_uri": "https://localhost:8080/"
        },
        "id": "8702ab60",
        "outputId": "05c48e77-7607-4c8c-8cd1-6289c06479c2"
      },
      "outputs": [
        {
          "name": "stdout",
          "output_type": "stream",
          "text": [
            "Intro to python\n"
          ]
        }
      ],
      "source": [
        "programming_books = [\"Learn python\", \"Python for all\",  \"Intro to python\"]\n",
        "print (programming_books[2])\n"
      ]
    },
    {
      "cell_type": "code",
      "execution_count": null,
      "id": "e14a8563",
      "metadata": {
        "colab": {
          "base_uri": "https://localhost:8080/"
        },
        "id": "e14a8563",
        "outputId": "b157ffc9-ac9d-4889-dfeb-388f21c7943d"
      },
      "outputs": [
        {
          "data": {
            "text/plain": [
              "['ABC', 3.2, False]"
            ]
          },
          "execution_count": 2,
          "metadata": {},
          "output_type": "execute_result"
        },
        {
          "name": "stderr",
          "output_type": "stream",
          "text": [
            "Bad pipe message: %s [b' q=0.9, image/avif, image/webp, image/apng, */*; q=0.8, application/signed-exchange; v=b3; q=0.7\\r\\nHost: loc', b'host:44621\\r\\nUser-Agent: Mozilla/5.0 (Windows NT 10.0; Win64; x64) AppleWebKit/537.36 (KHTML, lik']\n",
            "Bad pipe message: %s [b'Gecko) Chrome/133.0.0.0 Safari/537.36\\r\\nAccept-Encoding: gzip, deflate, br, zstd\\r\\nAccept-Language: en']\n",
            "Bad pipe message: %s [b'S, en; q=0.9, ar; q=0.8\\r\\nCache-Control: max-', b'e=0\\r\\nReferer: https://github.com/\\r\\nX-Request-ID: 87118fa98aeb62764e09d88900561df7\\r\\nX-Real-IP: 10', b'40.0.10\\r\\nX-Forwarded-Port: 443\\r\\nX-Forwarded-S']\n",
            "Bad pipe message: %s [b'eme: https\\r\\nX-Original-URI: /\\r\\nX-Scheme: https\\r\\nsec-fetch-site: cross-site\\r\\nsec-fetch-mode: naviga']\n"
          ]
        }
      ],
      "source": [
        "# List can have different values\n",
        "lst = [\"ABC\", 3.2, False]\n",
        "lst"
      ]
    },
    {
      "cell_type": "code",
      "execution_count": null,
      "id": "ae061065",
      "metadata": {
        "colab": {
          "base_uri": "https://localhost:8080/"
        },
        "id": "ae061065",
        "outputId": "a429fdd2-eb8a-431f-889b-5083393f8758"
      },
      "outputs": [
        {
          "name": "stdout",
          "output_type": "stream",
          "text": [
            "[2, 10, 7, 5, 0, 9]\n",
            "[2, 10, 9, 5, 0, 9]\n"
          ]
        }
      ],
      "source": [
        "numbers = [2, 10, 7, 5, 0, 9]\n",
        "print(numbers)\n",
        "numbers[2] = numbers[2]+2\n",
        "print(numbers)"
      ]
    },
    {
      "cell_type": "code",
      "execution_count": 58,
      "id": "77bd7535",
      "metadata": {
        "colab": {
          "base_uri": "https://localhost:8080/"
        },
        "id": "77bd7535",
        "outputId": "539e6d4b-e000-493b-e150-9a5ac281fc5e"
      },
      "outputs": [
        {
          "name": "stdout",
          "output_type": "stream",
          "text": [
            "Sorry, we don't sell that book\n"
          ]
        }
      ],
      "source": [
        "# Check if value in list or not:\n",
        "\n",
        "if \"Learn pyth\" in programming_books:\n",
        "    print (\"Yes, we sell it!\")\n",
        "else:\n",
        "    print (\"Sorry, we don't sell that book\")"
      ]
    },
    {
      "cell_type": "code",
      "execution_count": 8,
      "id": "BIVhVmhf0_Kg",
      "metadata": {
        "colab": {
          "base_uri": "https://localhost:8080/"
        },
        "id": "BIVhVmhf0_Kg",
        "outputId": "f57d39ab-4afe-4170-b670-9928814539f4"
      },
      "outputs": [
        {
          "name": "stdout",
          "output_type": "stream",
          "text": [
            "[1, 2, 2, 3, 4, 2, 3, 6, 6]\n"
          ]
        }
      ],
      "source": [
        "l= [1,2,2,3,4]\n",
        "y = [2,3,6,6]\n",
        "\n",
        "\n",
        "print(l+y)"
      ]
    },
    {
      "cell_type": "code",
      "execution_count": 76,
      "id": "9c2fb727",
      "metadata": {
        "colab": {
          "base_uri": "https://localhost:8080/"
        },
        "id": "9c2fb727",
        "outputId": "2f010d36-1c06-4c2c-eea2-f47af51f2d95"
      },
      "outputs": [
        {
          "name": "stdout",
          "output_type": "stream",
          "text": [
            "['Learn python', 'Python for all', ['Think Python', 'abs']]\n"
          ]
        }
      ],
      "source": [
        "# adding new value to the end of the list\n",
        "\n",
        "programming_books.insert(5,[\"Think Python\",\"abs\"])\n",
        "print (programming_books)"
      ]
    },
    {
      "cell_type": "code",
      "execution_count": null,
      "id": "f22f0c1f",
      "metadata": {
        "id": "f22f0c1f"
      },
      "outputs": [],
      "source": [
        "# Student Note:\n",
        "#################\n",
        "# What if we want to add value already exists in the list, what will happen??????? THINK then ANSWER\n",
        "# Try to add \"Think Python\" again"
      ]
    },
    {
      "cell_type": "code",
      "execution_count": null,
      "id": "716c37e8",
      "metadata": {
        "id": "716c37e8"
      },
      "outputs": [],
      "source": []
    },
    {
      "cell_type": "code",
      "execution_count": 67,
      "id": "41b20f69",
      "metadata": {
        "colab": {
          "base_uri": "https://localhost:8080/"
        },
        "id": "41b20f69",
        "outputId": "a067ca24-9426-4324-818c-3e6e9d5cf830"
      },
      "outputs": [
        {
          "name": "stdout",
          "output_type": "stream",
          "text": [
            "['Learn python', 'Python for all', 'Intro to python']\n"
          ]
        }
      ],
      "source": [
        "# Removing value from the list\n",
        "if \"Learn pyth\" in programming_books:\n",
        "  programming_books.remove(\"Learn pyth\")\n",
        "print (programming_books)"
      ]
    },
    {
      "cell_type": "code",
      "execution_count": null,
      "id": "2d7b7862",
      "metadata": {
        "id": "2d7b7862"
      },
      "outputs": [],
      "source": [
        "# Student Note:\n",
        "#################\n",
        "# What if we want to remove value not exists in the list, what will happen??????? THINK then ANSWER\n",
        "# Try to remove \"Learn python\" again"
      ]
    },
    {
      "cell_type": "code",
      "execution_count": null,
      "id": "1a41fa5c",
      "metadata": {
        "id": "1a41fa5c"
      },
      "outputs": [],
      "source": []
    },
    {
      "cell_type": "code",
      "execution_count": 37,
      "id": "0f507555",
      "metadata": {
        "colab": {
          "base_uri": "https://localhost:8080/",
          "height": 176
        },
        "id": "0f507555",
        "outputId": "10a6134a-1a52-476a-b6e1-73f64c7922ab"
      },
      "outputs": [
        {
          "ename": "ValueError",
          "evalue": "'Intro to pyth' is not in list",
          "output_type": "error",
          "traceback": [
            "\u001b[0;31m---------------------------------------------------------------------------\u001b[0m",
            "\u001b[0;31mValueError\u001b[0m                                Traceback (most recent call last)",
            "\u001b[0;32m<ipython-input-37-2ece3bd5eb57>\u001b[0m in \u001b[0;36m<cell line: 0>\u001b[0;34m()\u001b[0m\n\u001b[1;32m      1\u001b[0m \u001b[0;31m# Look at the position of a value in the list\u001b[0m\u001b[0;34m\u001b[0m\u001b[0;34m\u001b[0m\u001b[0m\n\u001b[0;32m----> 2\u001b[0;31m \u001b[0mbook_index\u001b[0m \u001b[0;34m=\u001b[0m \u001b[0mprogramming_books\u001b[0m\u001b[0;34m.\u001b[0m\u001b[0mindex\u001b[0m\u001b[0;34m(\u001b[0m\u001b[0;34m\"Intro to pyth\"\u001b[0m\u001b[0;34m)\u001b[0m\u001b[0;34m\u001b[0m\u001b[0;34m\u001b[0m\u001b[0m\n\u001b[0m\u001b[1;32m      3\u001b[0m \u001b[0mprint\u001b[0m\u001b[0;34m(\u001b[0m\u001b[0mbook_index\u001b[0m\u001b[0;34m)\u001b[0m\u001b[0;34m\u001b[0m\u001b[0;34m\u001b[0m\u001b[0m\n",
            "\u001b[0;31mValueError\u001b[0m: 'Intro to pyth' is not in list"
          ]
        }
      ],
      "source": [
        "# Look at the position of a value in the list\n",
        "book_index = programming_books.index(\"Intro to pyth\")\n",
        "print(book_index)"
      ]
    },
    {
      "cell_type": "code",
      "execution_count": null,
      "id": "0abc672c",
      "metadata": {
        "id": "0abc672c"
      },
      "outputs": [],
      "source": [
        "# Student Note:\n",
        "#################\n",
        "# What if we want to get position of value that exists in the list more than once, what will happen??????? THINK then ANSWER"
      ]
    },
    {
      "cell_type": "code",
      "execution_count": 12,
      "id": "7d5da146",
      "metadata": {
        "colab": {
          "base_uri": "https://localhost:8080/"
        },
        "id": "7d5da146",
        "outputId": "c65476de-8ad7-4f23-a612-6ace2bfb11b0"
      },
      "outputs": [
        {
          "name": "stdout",
          "output_type": "stream",
          "text": [
            "[['Think Python', 'abs'], 'Python for all', 'Intro to python']\n"
          ]
        }
      ],
      "source": [
        "print (programming_books)"
      ]
    },
    {
      "cell_type": "code",
      "execution_count": 75,
      "id": "d7041d3a",
      "metadata": {
        "colab": {
          "base_uri": "https://localhost:8080/"
        },
        "id": "d7041d3a",
        "outputId": "001b8c93-5f96-4ee5-88d2-10dca5254bbd"
      },
      "outputs": [
        {
          "name": "stdout",
          "output_type": "stream",
          "text": [
            "['Learn python', 'Python for all']\n"
          ]
        }
      ],
      "source": [
        "# Remove value from the list with its position\n",
        "programming_books.pop()\n",
        "print (programming_books)\n"
      ]
    },
    {
      "cell_type": "code",
      "execution_count": null,
      "id": "78fe2087",
      "metadata": {
        "id": "78fe2087",
        "outputId": "2e4fa09b-b7d6-45a4-8017-78c3b26cb03b"
      },
      "outputs": [
        {
          "name": "stdout",
          "output_type": "stream",
          "text": [
            "['Python for all', 'Think Python', 'Python Book']\n"
          ]
        }
      ],
      "source": [
        "# add value to the list in specific position\n",
        "programming_books.insert(2,\"Python Book\")\n",
        "print (programming_books)"
      ]
    },
    {
      "cell_type": "code",
      "execution_count": null,
      "id": "GpkzjX9YvyoM",
      "metadata": {
        "id": "GpkzjX9YvyoM"
      },
      "outputs": [],
      "source": []
    },
    {
      "cell_type": "code",
      "execution_count": null,
      "id": "22c10932",
      "metadata": {
        "colab": {
          "base_uri": "https://localhost:8080/"
        },
        "id": "22c10932",
        "outputId": "c93aa022-7118-4eef-f01d-8c4c90276cb0"
      },
      "outputs": [
        {
          "name": "stdout",
          "output_type": "stream",
          "text": [
            "[['Think Python', 'abs'], ['Think Python', 'abs']]\n"
          ]
        }
      ],
      "source": [
        "# Slicing\n",
        "print (programming_books)"
      ]
    },
    {
      "cell_type": "code",
      "execution_count": null,
      "id": "4eb67a9d",
      "metadata": {
        "colab": {
          "base_uri": "https://localhost:8080/"
        },
        "id": "4eb67a9d",
        "outputId": "ac33e755-ffae-415d-d33d-96de7082b1a3"
      },
      "outputs": [
        {
          "name": "stdout",
          "output_type": "stream",
          "text": [
            "['Python for all', 'Intro to python']\n"
          ]
        }
      ],
      "source": [
        "print (programming_books[1:3])"
      ]
    },
    {
      "cell_type": "code",
      "execution_count": null,
      "id": "27dc560a",
      "metadata": {
        "id": "27dc560a",
        "outputId": "380d7088-998c-47b7-b8ea-a9471ca8e820"
      },
      "outputs": [
        {
          "name": "stdout",
          "output_type": "stream",
          "text": [
            "['Think Python', 'Python Book']\n"
          ]
        }
      ],
      "source": [
        "print (programming_books[1:])"
      ]
    },
    {
      "cell_type": "code",
      "execution_count": null,
      "id": "86c6d69e",
      "metadata": {
        "id": "86c6d69e",
        "outputId": "bb9918f9-9d8d-48af-ec5b-82470d2fe584"
      },
      "outputs": [
        {
          "name": "stdout",
          "output_type": "stream",
          "text": [
            "['Python for all', 'Think Python']\n"
          ]
        }
      ],
      "source": [
        "print (programming_books[:2])"
      ]
    },
    {
      "cell_type": "code",
      "execution_count": null,
      "id": "b7f2b77e",
      "metadata": {
        "id": "b7f2b77e",
        "outputId": "47c3e8b3-63fd-4e58-94e5-dbb6e6919b60"
      },
      "outputs": [
        {
          "name": "stdout",
          "output_type": "stream",
          "text": [
            "Python Book\n"
          ]
        }
      ],
      "source": [
        "print (programming_books[-1])"
      ]
    },
    {
      "cell_type": "code",
      "execution_count": null,
      "id": "00649d20",
      "metadata": {
        "id": "00649d20",
        "outputId": "e83410ba-4a5e-4c17-cc26-4c99ec54fb54"
      },
      "outputs": [
        {
          "name": "stdout",
          "output_type": "stream",
          "text": [
            "['Python for all', 'Think Python']\n"
          ]
        }
      ],
      "source": [
        "print (programming_books[:-1])"
      ]
    },
    {
      "cell_type": "code",
      "execution_count": null,
      "id": "2683377e",
      "metadata": {
        "colab": {
          "base_uri": "https://localhost:8080/"
        },
        "id": "2683377e",
        "outputId": "6fb3d59d-1f36-4dbc-c287-825da332ff68"
      },
      "outputs": [
        {
          "name": "stdout",
          "output_type": "stream",
          "text": [
            "['Intro to python', 'Python for all']\n"
          ]
        }
      ],
      "source": [
        "print (programming_books[2:0:-1])"
      ]
    },
    {
      "cell_type": "code",
      "execution_count": null,
      "id": "54252c8a",
      "metadata": {
        "id": "54252c8a"
      },
      "outputs": [],
      "source": [
        "# Student Note:\n",
        "#################\n",
        "# What will happen if we write:\n",
        "# print (programming_books[::-1])"
      ]
    },
    {
      "cell_type": "code",
      "execution_count": null,
      "id": "34efb83c",
      "metadata": {
        "colab": {
          "base_uri": "https://localhost:8080/"
        },
        "id": "34efb83c",
        "outputId": "1e2929b0-8262-483e-c4a4-43616b3c3b1e"
      },
      "outputs": [
        {
          "name": "stdout",
          "output_type": "stream",
          "text": [
            "['Learn python', 'Python for all', 'python for Everyone']\n"
          ]
        }
      ],
      "source": [
        "programming_books[2] = \"python for Everyone\"\n",
        "print (programming_books)"
      ]
    },
    {
      "cell_type": "code",
      "execution_count": null,
      "id": "3a445ec1",
      "metadata": {
        "colab": {
          "base_uri": "https://localhost:8080/"
        },
        "id": "3a445ec1",
        "outputId": "48a42657-402c-4443-f609-8635b246f005"
      },
      "outputs": [
        {
          "name": "stdout",
          "output_type": "stream",
          "text": [
            "['Learn python', 'Python for all', 'python for Everyone', 'python Cookbook']\n"
          ]
        }
      ],
      "source": [
        "programming_books = programming_books + [\"python Cookbook\"]\n",
        "print (programming_books)"
      ]
    },
    {
      "cell_type": "code",
      "execution_count": null,
      "id": "7430dd87",
      "metadata": {
        "id": "7430dd87",
        "outputId": "7d6ad7a3-c18b-409a-c2d0-3bab94dff2c8"
      },
      "outputs": [
        {
          "name": "stdout",
          "output_type": "stream",
          "text": [
            "['Python for all', 'Think Python', 'python Cookbook']\n"
          ]
        }
      ],
      "source": [
        "del programming_books[2]\n",
        "print (programming_books)"
      ]
    },
    {
      "cell_type": "markdown",
      "id": "3056d75e",
      "metadata": {
        "id": "3056d75e"
      },
      "source": [
        "# for ... in range()"
      ]
    },
    {
      "cell_type": "code",
      "execution_count": null,
      "id": "66b45d22",
      "metadata": {
        "colab": {
          "base_uri": "https://localhost:8080/"
        },
        "id": "66b45d22",
        "outputId": "4af9abb5-b36e-47d0-89e2-6a249af1dedb"
      },
      "outputs": [
        {
          "name": "stdout",
          "output_type": "stream",
          "text": [
            "Learn python\n",
            "Python for all\n",
            "python for Everyone\n",
            "python Cookbook\n"
          ]
        }
      ],
      "source": [
        "for index in range (0,len(programming_books)):\n",
        "    print(programming_books[index])"
      ]
    },
    {
      "cell_type": "code",
      "execution_count": null,
      "id": "sWQrguYTxFCw",
      "metadata": {
        "colab": {
          "base_uri": "https://localhost:8080/"
        },
        "id": "sWQrguYTxFCw",
        "outputId": "629479f2-2e89-4e05-b21b-c52cf9d9900c"
      },
      "outputs": [
        {
          "name": "stdout",
          "output_type": "stream",
          "text": [
            "Learn python\n",
            "Python for all\n",
            "python for Everyone\n",
            "python Cookbook\n"
          ]
        }
      ],
      "source": [
        "for i in programming_books:\n",
        "  print(i)"
      ]
    },
    {
      "cell_type": "code",
      "execution_count": null,
      "id": "e01d727b",
      "metadata": {
        "id": "e01d727b",
        "outputId": "141882d6-8897-431f-bb96-939447f46646"
      },
      "outputs": [
        {
          "name": "stdout",
          "output_type": "stream",
          "text": [
            "Python for all\n",
            "python Cookbook\n"
          ]
        }
      ],
      "source": [
        "# Print all books except \"'Think Python'\"\n",
        "for index in range (0,len(programming_books)):\n",
        "    if programming_books[index] == 'Think Python':\n",
        "        continue\n",
        "    else:\n",
        "        print(programming_books[index])"
      ]
    },
    {
      "cell_type": "markdown",
      "id": "53b7a18a",
      "metadata": {
        "id": "53b7a18a"
      },
      "source": [
        "# Dictionary"
      ]
    },
    {
      "cell_type": "code",
      "execution_count": null,
      "id": "28a5adb5",
      "metadata": {
        "id": "28a5adb5",
        "outputId": "543c85b8-50c0-49d9-c4af-f3fc9a7d0e88"
      },
      "outputs": [
        {
          "name": "stdout",
          "output_type": "stream",
          "text": [
            "{'brand': 'Ford', 'electric': False, 'year': 1964, 'colors': ['red', 'white', 'blue']}\n"
          ]
        }
      ],
      "source": [
        "my_dict = {\n",
        "  \"brand\": \"Ford\",\n",
        "  \"electric\": False,\n",
        "  \"year\": 1964,\n",
        "  \"colors\": [\"red\", \"white\", \"blue\"]\n",
        "}\n",
        "print(my_dict)"
      ]
    },
    {
      "cell_type": "code",
      "execution_count": 77,
      "id": "9cfcd301",
      "metadata": {
        "colab": {
          "base_uri": "https://localhost:8080/"
        },
        "id": "9cfcd301",
        "outputId": "fe507600-d0b7-4dc3-e916-c1b62f9fb35e"
      },
      "outputs": [
        {
          "name": "stdout",
          "output_type": "stream",
          "text": [
            "[{'name': 'China', 'capital': 'Bejing'}, {'name': 'France', 'capital': 'Paris'}]\n"
          ]
        }
      ],
      "source": [
        "# List of dictionaries\n",
        "countries = [{\"name\": \"China\", \"capital\": \"Bejing\"},\n",
        "             {\"name\": \"France\", \"capital\": \"Paris\"},]\n",
        "print (countries)"
      ]
    },
    {
      "cell_type": "code",
      "execution_count": null,
      "id": "e73a3ce8",
      "metadata": {
        "id": "e73a3ce8",
        "outputId": "71d7adaf-a0bf-4399-c247-27231524bd50"
      },
      "outputs": [
        {
          "name": "stdout",
          "output_type": "stream",
          "text": [
            "[{'name': 'China', 'capital': 'Bejing'}, {'name': 'France', 'capital': 'Paris'}, {'name': 'Brazil', 'capital': 'Brasilia'}]\n"
          ]
        }
      ],
      "source": [
        "countries.append({\"name\": \"Brazil\", \"capital\": \"Brasilia\"})\n",
        "print (countries)"
      ]
    },
    {
      "cell_type": "code",
      "execution_count": null,
      "id": "1460b0ee",
      "metadata": {
        "id": "1460b0ee",
        "outputId": "3560d7f5-25bb-421a-9b86-e98110e3fc54"
      },
      "outputs": [
        {
          "name": "stdout",
          "output_type": "stream",
          "text": [
            "{'name': 'China', 'capital': 'Bejing'}\n",
            "{'name': 'France', 'capital': 'Paris'}\n",
            "{'name': 'Brazil', 'capital': 'Brasilia'}\n"
          ]
        }
      ],
      "source": [
        "for country in countries:\n",
        "    print (country)"
      ]
    },
    {
      "cell_type": "code",
      "execution_count": null,
      "id": "898ebedf",
      "metadata": {
        "id": "898ebedf",
        "outputId": "9ec8893e-f370-4fa8-bc86-377b6f6808eb"
      },
      "outputs": [
        {
          "name": "stdout",
          "output_type": "stream",
          "text": [
            "China\n",
            "France\n",
            "Brazil\n"
          ]
        }
      ],
      "source": [
        "for country in countries:\n",
        "    print (country[\"name\"])"
      ]
    },
    {
      "cell_type": "code",
      "execution_count": null,
      "id": "624bd80e",
      "metadata": {
        "id": "624bd80e"
      },
      "outputs": [],
      "source": []
    },
    {
      "cell_type": "markdown",
      "id": "866df179",
      "metadata": {
        "id": "866df179"
      },
      "source": [
        "# Functions"
      ]
    },
    {
      "cell_type": "code",
      "execution_count": null,
      "id": "24fcfe5d",
      "metadata": {
        "id": "24fcfe5d"
      },
      "outputs": [],
      "source": [
        "def fun_name(par):\n",
        "    '''Function Body'''\n",
        "    return                  # if needed"
      ]
    },
    {
      "cell_type": "code",
      "execution_count": null,
      "id": "aa6f9a14",
      "metadata": {
        "id": "aa6f9a14"
      },
      "outputs": [],
      "source": [
        "def is_even(x):\n",
        "  for i in x:\n",
        "    if i%2!=0:\n",
        "      return False\n",
        "\n",
        "  return True"
      ]
    },
    {
      "cell_type": "code",
      "execution_count": null,
      "id": "KPLCyUNTxrU-",
      "metadata": {
        "colab": {
          "base_uri": "https://localhost:8080/"
        },
        "id": "KPLCyUNTxrU-",
        "outputId": "64db5514-f78e-4ddd-a04c-88a6de1c810d"
      },
      "outputs": [
        {
          "name": "stdout",
          "output_type": "stream",
          "text": [
            "True\n"
          ]
        }
      ],
      "source": [
        "print (is_even([4,50,6]))"
      ]
    },
    {
      "cell_type": "code",
      "execution_count": null,
      "id": "cGXiIEe14XTT",
      "metadata": {
        "id": "cGXiIEe14XTT"
      },
      "outputs": [],
      "source": []
    },
    {
      "cell_type": "code",
      "execution_count": null,
      "id": "r3lMQbNC4XVj",
      "metadata": {
        "id": "r3lMQbNC4XVj"
      },
      "outputs": [],
      "source": [
        "def is_prime(x, i=2):\n",
        "  if x==2 or x== 1 or x==0:\n",
        "    return True\n",
        "  if x%i==0:\n",
        "        return False\n",
        "  i += 1\n",
        "  return is_prime(x,i)"
      ]
    },
    {
      "cell_type": "code",
      "execution_count": null,
      "id": "tjzrgk_i4XZK",
      "metadata": {
        "colab": {
          "base_uri": "https://localhost:8080/"
        },
        "id": "tjzrgk_i4XZK",
        "outputId": "d312e6c1-4460-408a-aadd-a5dbdea0cbba"
      },
      "outputs": [
        {
          "name": "stdout",
          "output_type": "stream",
          "text": [
            "False\n"
          ]
        }
      ],
      "source": [
        "print(is_prime(4))"
      ]
    },
    {
      "cell_type": "code",
      "execution_count": null,
      "id": "DAJs-Qqg4XgK",
      "metadata": {
        "id": "DAJs-Qqg4XgK"
      },
      "outputs": [],
      "source": []
    },
    {
      "cell_type": "code",
      "execution_count": null,
      "id": "pUNhYb2Z4Xl6",
      "metadata": {
        "id": "pUNhYb2Z4Xl6"
      },
      "outputs": [],
      "source": []
    }
  ],
  "metadata": {
    "colab": {
      "provenance": []
    },
    "kernelspec": {
      "display_name": "Python 3",
      "language": "python",
      "name": "python3"
    },
    "language_info": {
      "codemirror_mode": {
        "name": "ipython",
        "version": 3
      },
      "file_extension": ".py",
      "mimetype": "text/x-python",
      "name": "python",
      "nbconvert_exporter": "python",
      "pygments_lexer": "ipython3",
      "version": "3.12.1"
    }
  },
  "nbformat": 4,
  "nbformat_minor": 5
}
