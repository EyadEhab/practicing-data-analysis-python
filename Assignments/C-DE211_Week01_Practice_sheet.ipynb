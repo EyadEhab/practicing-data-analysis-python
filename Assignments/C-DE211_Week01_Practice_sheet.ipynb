{
 "cells": [
  {
   "cell_type": "markdown",
   "metadata": {
    "id": "E2GZk6U5ABjC"
   },
   "source": [
    "## Q1) Reverse Word, mainating the order\n",
    "Write a Python function called reverse_words that takes a string as input and returns a new string where each word in the input string is reversed, while maintaining the order of words.\n",
    "\n",
    "\n"
   ]
  },
  {
   "cell_type": "code",
   "execution_count": 1,
   "metadata": {
    "id": "54JA0Ips_4Ib"
   },
   "outputs": [],
   "source": [
    "def reverse_word(x):\n",
    "   '''\n",
    "      YOUR CODE GOES HERE\n",
    "   '''\n",
    "   return ' '.join(word[::-1] for word in x.split())\n",
    "\n"
   ]
  },
  {
   "cell_type": "code",
   "execution_count": 2,
   "metadata": {
    "colab": {
     "base_uri": "https://localhost:8080/",
     "height": 35
    },
    "executionInfo": {
     "elapsed": 6,
     "status": "ok",
     "timestamp": 1708289915168,
     "user": {
      "displayName": "Nadine Elsaeed",
      "userId": "09284707717075021915"
     },
     "user_tz": -120
    },
    "id": "QF_hsDluAgBG",
    "outputId": "4eada91b-d9dd-4e05-8cb7-4b212c77c4a7"
   },
   "outputs": [
    {
     "data": {
      "text/plain": [
       "'YNA DROW FO RUOY ECIOHC'"
      ]
     },
     "execution_count": 2,
     "metadata": {},
     "output_type": "execute_result"
    }
   ],
   "source": [
    "reverse_word(\"ANY WORD OF YOUR CHOICE\")"
   ]
  },
  {
   "cell_type": "markdown",
   "metadata": {
    "id": "XmkIJn3GBhzH"
   },
   "source": [
    "## Q2) Find Duplicates in list\n",
    "\n",
    "Write a Python function called find_duplicates that takes a list as input and returns a list containing all the elements that appear more than once in the input list."
   ]
  },
  {
   "cell_type": "code",
   "execution_count": 3,
   "metadata": {
    "id": "LaSTgTTQAlQv"
   },
   "outputs": [],
   "source": [
    "def find_duplicates(x):\n",
    "  '''\n",
    "    YOUR CODE GOES HERE\n",
    "  '''\n",
    "\n",
    "  seen = set()\n",
    "  duplicates = set()\n",
    "  for item in x:\n",
    "      if item in seen:\n",
    "          duplicates.add(item)\n",
    "      else:\n",
    "          seen.add(item)\n",
    "  return list(duplicates)"
   ]
  },
  {
   "cell_type": "code",
   "execution_count": 4,
   "metadata": {
    "colab": {
     "base_uri": "https://localhost:8080/"
    },
    "executionInfo": {
     "elapsed": 281,
     "status": "ok",
     "timestamp": 1708290235897,
     "user": {
      "displayName": "Nadine Elsaeed",
      "userId": "09284707717075021915"
     },
     "user_tz": -120
    },
    "id": "on3kP3UjByzg",
    "outputId": "95c5df1b-e6b7-4a68-f797-96189df5a55d"
   },
   "outputs": [
    {
     "data": {
      "text/plain": [
       "[1, 2, 4]"
      ]
     },
     "execution_count": 4,
     "metadata": {},
     "output_type": "execute_result"
    }
   ],
   "source": [
    "find_duplicates([1,2,3,4,2,1,4,5,6])"
   ]
  },
  {
   "cell_type": "markdown",
   "metadata": {
    "id": "_rUrqKjtCUFz"
   },
   "source": [
    "## Q3) Missing numbers\n",
    "Write a Python function called missing_numbers that takes two lists of integers as input. The function\n",
    "should return a list of numbers that are missing from the second list, but present in the first list.\n",
    "\n"
   ]
  },
  {
   "cell_type": "code",
   "execution_count": 5,
   "metadata": {
    "id": "Dz1opG-KB3To"
   },
   "outputs": [],
   "source": [
    "def missing_numbers(x,y):\n",
    "  '''\n",
    "    YOUR CODE GOES HERE\n",
    "  '''\n",
    "  return list(set(x) - set(y))\n"
   ]
  },
  {
   "cell_type": "code",
   "execution_count": 6,
   "metadata": {
    "colab": {
     "base_uri": "https://localhost:8080/"
    },
    "executionInfo": {
     "elapsed": 274,
     "status": "ok",
     "timestamp": 1708290338346,
     "user": {
      "displayName": "Nadine Elsaeed",
      "userId": "09284707717075021915"
     },
     "user_tz": -120
    },
    "id": "BcKYC115CdS2",
    "outputId": "81a0f646-c8ca-497f-8aad-1ed9e8603bc8"
   },
   "outputs": [
    {
     "name": "stdout",
     "output_type": "stream",
     "text": [
      "[1, 5]\n",
      "[11, 14]\n"
     ]
    }
   ],
   "source": [
    "print(missing_numbers([1, 2, 3, 4, 5], [2, 3, 4]))\n",
    "print(missing_numbers([10, 11, 12, 13, 14, 15], [10, 12, 13, 15]))"
   ]
  },
  {
   "cell_type": "code",
   "execution_count": null,
   "metadata": {
    "id": "JJ8N1wqXCeqH"
   },
   "outputs": [],
   "source": []
  }
 ],
 "metadata": {
  "colab": {
   "provenance": [
    {
     "file_id": "1T5l6FLBBduIvTEVG1Lb5LBtHaYPc9cYZ",
     "timestamp": 1739189960779
    }
   ]
  },
  "kernelspec": {
   "display_name": "Python 3",
   "name": "python3"
  },
  "language_info": {
   "codemirror_mode": {
    "name": "ipython",
    "version": 3
   },
   "file_extension": ".py",
   "mimetype": "text/x-python",
   "name": "python",
   "nbconvert_exporter": "python",
   "pygments_lexer": "ipython3",
   "version": "3.13.2"
  }
 },
 "nbformat": 4,
 "nbformat_minor": 0
}
