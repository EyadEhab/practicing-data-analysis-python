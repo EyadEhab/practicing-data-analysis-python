{
 "cells": [
  {
   "cell_type": "markdown",
   "metadata": {
    "id": "-Ua9LVYkHkdD"
   },
   "source": [
    "#NumPy Exercises\n",
    "Now that we've learned about NumPy let's test your knowledge. We'll start off with a few simple tasks and then you'll be asked some more complicated questions.\n",
    "\n"
   ]
  },
  {
   "cell_type": "markdown",
   "metadata": {
    "id": "loSyqpSUHufT"
   },
   "source": [
    "Import NumPy as np\n"
   ]
  },
  {
   "cell_type": "code",
   "execution_count": 2,
   "metadata": {
    "executionInfo": {
     "elapsed": 16,
     "status": "ok",
     "timestamp": 1739970618261,
     "user": {
      "displayName": "Nadine Elsaeed",
      "userId": "09284707717075021915"
     },
     "user_tz": -120
    },
    "id": "8mRwoPDsGl7_"
   },
   "outputs": [],
   "source": [
    "#Import NumPy as np\n",
    "import numpy as np"
   ]
  },
  {
   "cell_type": "markdown",
   "metadata": {
    "id": "BXw_xwf-HwTr"
   },
   "source": [
    "Create an array of 10 zeros\n"
   ]
  },
  {
   "cell_type": "code",
   "execution_count": 3,
   "metadata": {
    "colab": {
     "base_uri": "https://localhost:8080/"
    },
    "executionInfo": {
     "elapsed": 35,
     "status": "ok",
     "timestamp": 1739970751266,
     "user": {
      "displayName": "Nadine Elsaeed",
      "userId": "09284707717075021915"
     },
     "user_tz": -120
    },
    "id": "istqWfHzHmhx",
    "outputId": "446c6368-ef44-474f-aa31-28dc85c86d0b"
   },
   "outputs": [
    {
     "data": {
      "text/plain": [
       "array([[0., 0.],\n",
       "       [0., 0.],\n",
       "       [0., 0.],\n",
       "       [0., 0.],\n",
       "       [0., 0.]])"
      ]
     },
     "execution_count": 3,
     "metadata": {},
     "output_type": "execute_result"
    }
   ],
   "source": [
    "\n",
    "arr_zeros = np.zeros((5,2))\n",
    "\n",
    "#new_z = np.reshape(arr_zeros,(2,5))\n",
    "arr_zeros"
   ]
  },
  {
   "cell_type": "markdown",
   "metadata": {
    "id": "Esx-kKF-HyPl"
   },
   "source": [
    "Create an array of 10 ones\n"
   ]
  },
  {
   "cell_type": "code",
   "execution_count": 4,
   "metadata": {
    "colab": {
     "base_uri": "https://localhost:8080/"
    },
    "executionInfo": {
     "elapsed": 32,
     "status": "ok",
     "timestamp": 1739970838899,
     "user": {
      "displayName": "Nadine Elsaeed",
      "userId": "09284707717075021915"
     },
     "user_tz": -120
    },
    "id": "stPc22nsH0Qs",
    "outputId": "beaaec4b-809a-4c0f-a61a-b4d86194dc05"
   },
   "outputs": [
    {
     "data": {
      "text/plain": [
       "array([[1., 1.],\n",
       "       [1., 1.],\n",
       "       [1., 1.],\n",
       "       [1., 1.],\n",
       "       [1., 1.]])"
      ]
     },
     "execution_count": 4,
     "metadata": {},
     "output_type": "execute_result"
    }
   ],
   "source": [
    "arr_ones = np.ones((5,2))\n",
    "arr_ones"
   ]
  },
  {
   "cell_type": "markdown",
   "metadata": {
    "id": "RTbY4PayJ1d0"
   },
   "source": [
    "Create an array of 10 fives\n"
   ]
  },
  {
   "cell_type": "code",
   "execution_count": 5,
   "metadata": {
    "colab": {
     "base_uri": "https://localhost:8080/"
    },
    "executionInfo": {
     "elapsed": 30,
     "status": "ok",
     "timestamp": 1739970911105,
     "user": {
      "displayName": "Nadine Elsaeed",
      "userId": "09284707717075021915"
     },
     "user_tz": -120
    },
    "id": "aarY8c2MJ2Bv",
    "outputId": "bc02ae6c-84c7-4455-fc6b-291a9f03261b"
   },
   "outputs": [
    {
     "data": {
      "text/plain": [
       "array([5., 5., 5., 5., 5., 5., 5., 5., 5., 5.])"
      ]
     },
     "execution_count": 5,
     "metadata": {},
     "output_type": "execute_result"
    }
   ],
   "source": [
    "arr_fives = np.ones(10)*5\n",
    "arr_fives"
   ]
  },
  {
   "cell_type": "code",
   "execution_count": 6,
   "metadata": {
    "colab": {
     "base_uri": "https://localhost:8080/"
    },
    "executionInfo": {
     "elapsed": 15,
     "status": "ok",
     "timestamp": 1739971044279,
     "user": {
      "displayName": "Nadine Elsaeed",
      "userId": "09284707717075021915"
     },
     "user_tz": -120
    },
    "id": "MVBeRdZtWZYm",
    "outputId": "1051c721-7804-48db-a6ee-44989863ac3f"
   },
   "outputs": [
    {
     "data": {
      "text/plain": [
       "array([[0, 1, 2],\n",
       "       [3, 4, 5],\n",
       "       [6, 7, 8]])"
      ]
     },
     "execution_count": 6,
     "metadata": {},
     "output_type": "execute_result"
    }
   ],
   "source": [
    "arr = np.arange(0,9).reshape(3,3)\n",
    "arr"
   ]
  },
  {
   "cell_type": "markdown",
   "metadata": {
    "id": "PQmx2s1xH00J"
   },
   "source": [
    "Create a 3x3 matrix with values ranging from 0 to 8"
   ]
  },
  {
   "cell_type": "code",
   "execution_count": 7,
   "metadata": {
    "colab": {
     "base_uri": "https://localhost:8080/"
    },
    "executionInfo": {
     "elapsed": 70,
     "status": "ok",
     "timestamp": 1739961311378,
     "user": {
      "displayName": "Nadine Elsaeed",
      "userId": "09284707717075021915"
     },
     "user_tz": -120
    },
    "id": "3x7WX4f9H5V1",
    "outputId": "893b6abb-75f8-4a02-bb08-b68aefb0676f"
   },
   "outputs": [
    {
     "data": {
      "text/plain": [
       "array([[0, 1, 2],\n",
       "       [3, 4, 5],\n",
       "       [6, 7, 8]])"
      ]
     },
     "execution_count": 7,
     "metadata": {},
     "output_type": "execute_result"
    }
   ],
   "source": [
    "arr = np.arange(0, 9).reshape(3, 3)\n",
    "arr"
   ]
  },
  {
   "cell_type": "code",
   "execution_count": 18,
   "metadata": {
    "colab": {
     "base_uri": "https://localhost:8080/"
    },
    "executionInfo": {
     "elapsed": 47,
     "status": "ok",
     "timestamp": 1739971195069,
     "user": {
      "displayName": "Nadine Elsaeed",
      "userId": "09284707717075021915"
     },
     "user_tz": -120
    },
    "id": "B76OpjubW4sO",
    "outputId": "cba6de73-981c-4de1-b8e6-5b9e065726e3"
   },
   "outputs": [
    {
     "data": {
      "text/plain": [
       "array([[ 0.29850883,  1.66161677, -0.34301083, -0.17493501, -0.26620009],\n",
       "       [ 1.90940863,  1.72055025,  1.17635768,  1.24202885, -1.61404738],\n",
       "       [-1.30129002,  0.51041875, -0.00396625, -0.42225971, -0.3218517 ],\n",
       "       [ 0.30274564, -1.1102545 ,  1.17258949,  0.46181807, -0.51726243],\n",
       "       [-0.4756083 ,  1.18922458,  0.31844728,  0.46329444, -2.20195386]])"
      ]
     },
     "execution_count": 18,
     "metadata": {},
     "output_type": "execute_result"
    }
   ],
   "source": [
    "arr2 = np.random.randn(25)\n",
    "np.reshape(arr2,(5,5))"
   ]
  },
  {
   "cell_type": "markdown",
   "metadata": {
    "id": "39TNkyVGH54w"
   },
   "source": [
    "Use NumPy to generate an array of 25 random numbers sampled from a standard normal distribution"
   ]
  },
  {
   "cell_type": "markdown",
   "metadata": {
    "id": "qpHLe_Z7x7fq"
   },
   "source": [
    "\n"
   ]
  },
  {
   "cell_type": "code",
   "execution_count": 8,
   "metadata": {
    "colab": {
     "base_uri": "https://localhost:8080/"
    },
    "executionInfo": {
     "elapsed": 82,
     "status": "ok",
     "timestamp": 1739961521715,
     "user": {
      "displayName": "Nadine Elsaeed",
      "userId": "09284707717075021915"
     },
     "user_tz": -120
    },
    "id": "A79RMof9H81T",
    "outputId": "26c2322e-6f59-4d0c-9013-47891e9082bb"
   },
   "outputs": [
    {
     "data": {
      "text/plain": [
       "array([ 1.46230031e+00,  9.25855911e-02,  8.36791266e-01,  1.46466577e-01,\n",
       "        1.50832337e+00, -1.54691108e+00,  4.96329606e-01, -7.63965851e-01,\n",
       "       -3.48952308e-01, -4.80084210e-01, -8.93391139e-02, -1.59913739e-01,\n",
       "        1.30450276e+00, -4.98612696e-02,  2.79197912e+00,  8.12013079e-01,\n",
       "       -2.59434082e-03,  2.12964349e+00,  5.69869096e-01,  4.96439026e-01,\n",
       "        1.69632104e+00, -8.00878752e-01, -1.35595374e+00,  1.83822489e-01,\n",
       "       -2.07478132e-01])"
      ]
     },
     "execution_count": 8,
     "metadata": {},
     "output_type": "execute_result"
    }
   ],
   "source": [
    "arr_random = np.random.randn(25)\n",
    "arr_random"
   ]
  },
  {
   "cell_type": "markdown",
   "metadata": {
    "id": "6rczBe9dH9bw"
   },
   "source": [
    "###Numpy Indexing and Selection\n",
    "Now you will be given a few matrices, and be asked to replicate the resulting matrix outputs:"
   ]
  },
  {
   "cell_type": "code",
   "execution_count": 10,
   "metadata": {
    "colab": {
     "base_uri": "https://localhost:8080/"
    },
    "executionInfo": {
     "elapsed": 64,
     "status": "ok",
     "timestamp": 1739971738714,
     "user": {
      "displayName": "Nadine Elsaeed",
      "userId": "09284707717075021915"
     },
     "user_tz": -120
    },
    "id": "yyGZq86lIDlo",
    "outputId": "a6c21779-561c-4abe-d9b3-02ae8dc7d274"
   },
   "outputs": [
    {
     "data": {
      "text/plain": [
       "array([[ 1,  2,  3,  4,  5],\n",
       "       [ 6,  7,  8,  9, 10],\n",
       "       [11, 12, 13, 14, 15],\n",
       "       [16, 17, 18, 19, 20],\n",
       "       [21, 22, 23, 24, 25]])"
      ]
     },
     "execution_count": 10,
     "metadata": {},
     "output_type": "execute_result"
    }
   ],
   "source": [
    "mat = np.arange(1,26).reshape(5,5)\n",
    "mat\n"
   ]
  },
  {
   "cell_type": "code",
   "execution_count": 11,
   "metadata": {
    "colab": {
     "base_uri": "https://localhost:8080/"
    },
    "executionInfo": {
     "elapsed": 42,
     "status": "ok",
     "timestamp": 1739971451561,
     "user": {
      "displayName": "Nadine Elsaeed",
      "userId": "09284707717075021915"
     },
     "user_tz": -120
    },
    "id": "wUeT9ICQIFTA",
    "outputId": "c489a732-4980-4b0b-aba4-caf412945bc8"
   },
   "outputs": [
    {
     "name": "stdout",
     "output_type": "stream",
     "text": [
      "[[12 13 14 15]\n",
      " [17 18 19 20]\n",
      " [22 23 24 25]]\n"
     ]
    }
   ],
   "source": [
    "# WRITE CODE HERE THAT REPRODUCES THE OUTPUT OF THE CELL BELOW\n",
    "# BE CAREFUL NOT TO RUN THE CELL BELOW, OTHERWISE YOU WON'T\n",
    "# BE ABLE TO SEE THE OUTPUT ANY MORE\n",
    "\n",
    "#print(mat[2:,1:] )\n",
    "print(mat[2:5,1:5] )\n"
   ]
  },
  {
   "cell_type": "code",
   "execution_count": 12,
   "metadata": {
    "colab": {
     "base_uri": "https://localhost:8080/"
    },
    "executionInfo": {
     "elapsed": 34,
     "status": "ok",
     "timestamp": 1739971525415,
     "user": {
      "displayName": "Nadine Elsaeed",
      "userId": "09284707717075021915"
     },
     "user_tz": -120
    },
    "id": "6bCz0cT9IWjy",
    "outputId": "6ded4ca7-024b-4e4f-d441-cc5769c57be5"
   },
   "outputs": [
    {
     "name": "stdout",
     "output_type": "stream",
     "text": [
      "20\n"
     ]
    }
   ],
   "source": [
    "# WRITE CODE HERE THAT REPRODUCES THE OUTPUT OF THE CELL BELOW\n",
    "# BE CAREFUL NOT TO RUN THE CELL BELOW, OTHERWISE YOU WON'T BE ABLE TO SEE THE OUTPUT ANY MORE\n",
    "print(mat[3,-1])\n"
   ]
  },
  {
   "cell_type": "code",
   "execution_count": 32,
   "metadata": {
    "colab": {
     "base_uri": "https://localhost:8080/"
    },
    "executionInfo": {
     "elapsed": 42,
     "status": "ok",
     "timestamp": 1739971601662,
     "user": {
      "displayName": "Nadine Elsaeed",
      "userId": "09284707717075021915"
     },
     "user_tz": -120
    },
    "id": "wykPulJ3IaLS",
    "outputId": "de77cc84-eb7c-4863-ed2d-e736c922f271"
   },
   "outputs": [
    {
     "name": "stdout",
     "output_type": "stream",
     "text": [
      "[[16 17 18 19 20]\n",
      " [21 22 23 24 25]]\n"
     ]
    }
   ],
   "source": [
    "# WRITE CODE HERE THAT REPRODUCES THE OUTPUT OF THE CELL BELOW\n",
    "# BE CAREFUL NOT TO RUN THE CELL BELOW, OTHERWISE YOU WON'T BE ABLE TO SEE THE OUTPUT ANY MORE\n",
    "print(mat[-2:])"
   ]
  },
  {
   "cell_type": "code",
   "execution_count": 13,
   "metadata": {
    "colab": {
     "base_uri": "https://localhost:8080/"
    },
    "executionInfo": {
     "elapsed": 32,
     "status": "ok",
     "timestamp": 1739961897813,
     "user": {
      "displayName": "Nadine Elsaeed",
      "userId": "09284707717075021915"
     },
     "user_tz": -120
    },
    "id": "mSj9BUNVJAGj",
    "outputId": "e618a35f-9d8f-4c28-bef8-f66f607564c7"
   },
   "outputs": [
    {
     "name": "stdout",
     "output_type": "stream",
     "text": [
      "[ 2  7 12]\n"
     ]
    }
   ],
   "source": [
    "# WRITE CODE HERE THAT REPRODUCES THE OUTPUT OF THE CELL BELOW\n",
    "# BE CAREFUL NOT TO RUN THE CELL BELOW, OTHERWISE YOU WON'T BE ABLE TO SEE THE OUTPUT ANY MORE\n",
    "\n",
    "print(mat[0:3,1])\n"
   ]
  },
  {
   "cell_type": "code",
   "execution_count": 14,
   "metadata": {
    "colab": {
     "base_uri": "https://localhost:8080/"
    },
    "executionInfo": {
     "elapsed": 34,
     "status": "ok",
     "timestamp": 1739962002785,
     "user": {
      "displayName": "Nadine Elsaeed",
      "userId": "09284707717075021915"
     },
     "user_tz": -120
    },
    "id": "AyO8IwX3JN8l",
    "outputId": "c1858f79-4c7b-4033-a797-fa8807cd8099"
   },
   "outputs": [],
   "source": [
    "# WRITE CODE HERE THAT REPRODUCES THE OUTPUT OF THE CELL BELOW\n",
    "# BE CAREFUL NOT TO RUN THE CELL BELOW, OTHERWISE YOU WON'T BE ABLE TO SEE THE OUTPUT ANY MORE\n"
   ]
  },
  {
   "cell_type": "markdown",
   "metadata": {
    "id": "t1yPpItoIkNd"
   },
   "source": [
    "Get the sum of all the values in mat\n"
   ]
  },
  {
   "cell_type": "code",
   "execution_count": 15,
   "metadata": {
    "colab": {
     "base_uri": "https://localhost:8080/"
    },
    "executionInfo": {
     "elapsed": 34,
     "status": "ok",
     "timestamp": 1739971716186,
     "user": {
      "displayName": "Nadine Elsaeed",
      "userId": "09284707717075021915"
     },
     "user_tz": -120
    },
    "id": "JUkiL6MqId8n",
    "outputId": "f3785fad-23b9-4a08-c8e5-94e7ac9246e2"
   },
   "outputs": [
    {
     "name": "stdout",
     "output_type": "stream",
     "text": [
      "325\n"
     ]
    }
   ],
   "source": [
    "print(np.sum(mat))"
   ]
  },
  {
   "cell_type": "markdown",
   "metadata": {
    "id": "K6wrZrXpIqmR"
   },
   "source": [
    "Get the sum of all the columns in mat\n"
   ]
  },
  {
   "cell_type": "code",
   "execution_count": 16,
   "metadata": {
    "colab": {
     "base_uri": "https://localhost:8080/"
    },
    "executionInfo": {
     "elapsed": 48,
     "status": "ok",
     "timestamp": 1739962122065,
     "user": {
      "displayName": "Nadine Elsaeed",
      "userId": "09284707717075021915"
     },
     "user_tz": -120
    },
    "id": "zIEILEGZItP7",
    "outputId": "5117ea96-077f-4c93-8e42-825914c7303f"
   },
   "outputs": [
    {
     "name": "stdout",
     "output_type": "stream",
     "text": [
      "7.211102550927978\n"
     ]
    }
   ],
   "source": [
    "print(np.std(mat))"
   ]
  },
  {
   "cell_type": "markdown",
   "metadata": {
    "id": "QzCqNLaHJWWj"
   },
   "source": [
    "Get the standard deviation of the values in mat\n"
   ]
  },
  {
   "cell_type": "code",
   "execution_count": 17,
   "metadata": {
    "colab": {
     "base_uri": "https://localhost:8080/"
    },
    "executionInfo": {
     "elapsed": 54,
     "status": "ok",
     "timestamp": 1739962145300,
     "user": {
      "displayName": "Nadine Elsaeed",
      "userId": "09284707717075021915"
     },
     "user_tz": -120
    },
    "id": "MqmfUnhTJVfo",
    "outputId": "d4e31f0e-2e23-4968-c430-fbea0ee4520d"
   },
   "outputs": [
    {
     "name": "stdout",
     "output_type": "stream",
     "text": [
      "7.211102550927978\n"
     ]
    }
   ],
   "source": [
    "print(np.std(mat))"
   ]
  },
  {
   "cell_type": "markdown",
   "metadata": {
    "id": "net7VT5dIxsd"
   },
   "source": [
    "#Great Job!\n"
   ]
  }
 ],
 "metadata": {
  "colab": {
   "provenance": []
  },
  "kernelspec": {
   "display_name": "Python 3",
   "name": "python3"
  },
  "language_info": {
   "codemirror_mode": {
    "name": "ipython",
    "version": 3
   },
   "file_extension": ".py",
   "mimetype": "text/x-python",
   "name": "python",
   "nbconvert_exporter": "python",
   "pygments_lexer": "ipython3",
   "version": "3.13.2"
  }
 },
 "nbformat": 4,
 "nbformat_minor": 0
}
