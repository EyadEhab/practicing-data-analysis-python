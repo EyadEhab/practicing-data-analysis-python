{
  "cells": [
    {
      "cell_type": "markdown",
      "id": "66d46355",
      "metadata": {
        "id": "66d46355"
      },
      "source": [
        "**Import the relevant python libraries for the analysis**"
      ]
    },
    {
      "cell_type": "code",
      "execution_count": 6,
      "id": "c2de3bd9",
      "metadata": {
        "id": "c2de3bd9"
      },
      "outputs": [],
      "source": [
        "import numpy as np\n",
        "import pandas as pd\n"
      ]
    },
    {
      "cell_type": "markdown",
      "id": "ff1e6e80",
      "metadata": {
        "id": "ff1e6e80"
      },
      "source": [
        "**Load the dataset from titanic.csv**"
      ]
    },
    {
      "cell_type": "code",
      "execution_count": 7,
      "id": "7688f690",
      "metadata": {
        "id": "7688f690"
      },
      "outputs": [],
      "source": [
        "df = pd.read_csv(\"titanic (1).csv\")"
      ]
    },
    {
      "cell_type": "markdown",
      "id": "7d903f72",
      "metadata": {
        "id": "7d903f72"
      },
      "source": [
        "**Display the first 6 rows of the dataset**"
      ]
    },
    {
      "cell_type": "code",
      "execution_count": 8,
      "id": "de4fd2a9",
      "metadata": {
        "id": "de4fd2a9"
      },
      "outputs": [
        {
          "data": {
            "text/html": [
              "<div>\n",
              "<style scoped>\n",
              "    .dataframe tbody tr th:only-of-type {\n",
              "        vertical-align: middle;\n",
              "    }\n",
              "\n",
              "    .dataframe tbody tr th {\n",
              "        vertical-align: top;\n",
              "    }\n",
              "\n",
              "    .dataframe thead th {\n",
              "        text-align: right;\n",
              "    }\n",
              "</style>\n",
              "<table border=\"1\" class=\"dataframe\">\n",
              "  <thead>\n",
              "    <tr style=\"text-align: right;\">\n",
              "      <th></th>\n",
              "      <th>PassengerId</th>\n",
              "      <th>Survived</th>\n",
              "      <th>Pclass</th>\n",
              "      <th>Name</th>\n",
              "      <th>Sex</th>\n",
              "      <th>Age</th>\n",
              "      <th>SibSp</th>\n",
              "      <th>Parch</th>\n",
              "      <th>Ticket</th>\n",
              "      <th>Fare</th>\n",
              "      <th>Cabin</th>\n",
              "      <th>Embarked</th>\n",
              "    </tr>\n",
              "  </thead>\n",
              "  <tbody>\n",
              "    <tr>\n",
              "      <th>0</th>\n",
              "      <td>1</td>\n",
              "      <td>0.0</td>\n",
              "      <td>3</td>\n",
              "      <td>Braund, Mr. Owen Harris</td>\n",
              "      <td>male</td>\n",
              "      <td>22.0</td>\n",
              "      <td>1</td>\n",
              "      <td>0</td>\n",
              "      <td>A/5 21171</td>\n",
              "      <td>7.2500</td>\n",
              "      <td>NaN</td>\n",
              "      <td>S</td>\n",
              "    </tr>\n",
              "    <tr>\n",
              "      <th>1</th>\n",
              "      <td>2</td>\n",
              "      <td>1.0</td>\n",
              "      <td>1</td>\n",
              "      <td>Cumings, Mrs. John Bradley (Florence Briggs Th...</td>\n",
              "      <td>female</td>\n",
              "      <td>38.0</td>\n",
              "      <td>1</td>\n",
              "      <td>0</td>\n",
              "      <td>PC 17599</td>\n",
              "      <td>71.2833</td>\n",
              "      <td>C85</td>\n",
              "      <td>C</td>\n",
              "    </tr>\n",
              "    <tr>\n",
              "      <th>2</th>\n",
              "      <td>3</td>\n",
              "      <td>1.0</td>\n",
              "      <td>3</td>\n",
              "      <td>Heikkinen, Miss. Laina</td>\n",
              "      <td>female</td>\n",
              "      <td>26.0</td>\n",
              "      <td>0</td>\n",
              "      <td>0</td>\n",
              "      <td>STON/O2. 3101282</td>\n",
              "      <td>7.9250</td>\n",
              "      <td>NaN</td>\n",
              "      <td>S</td>\n",
              "    </tr>\n",
              "    <tr>\n",
              "      <th>3</th>\n",
              "      <td>4</td>\n",
              "      <td>1.0</td>\n",
              "      <td>1</td>\n",
              "      <td>Futrelle, Mrs. Jacques Heath (Lily May Peel)</td>\n",
              "      <td>female</td>\n",
              "      <td>35.0</td>\n",
              "      <td>1</td>\n",
              "      <td>0</td>\n",
              "      <td>113803</td>\n",
              "      <td>53.1000</td>\n",
              "      <td>C123</td>\n",
              "      <td>S</td>\n",
              "    </tr>\n",
              "    <tr>\n",
              "      <th>4</th>\n",
              "      <td>5</td>\n",
              "      <td>0.0</td>\n",
              "      <td>3</td>\n",
              "      <td>Allen, Mr. William Henry</td>\n",
              "      <td>male</td>\n",
              "      <td>35.0</td>\n",
              "      <td>0</td>\n",
              "      <td>0</td>\n",
              "      <td>373450</td>\n",
              "      <td>8.0500</td>\n",
              "      <td>NaN</td>\n",
              "      <td>S</td>\n",
              "    </tr>\n",
              "    <tr>\n",
              "      <th>5</th>\n",
              "      <td>6</td>\n",
              "      <td>0.0</td>\n",
              "      <td>3</td>\n",
              "      <td>Moran, Mr. James</td>\n",
              "      <td>male</td>\n",
              "      <td>NaN</td>\n",
              "      <td>0</td>\n",
              "      <td>0</td>\n",
              "      <td>330877</td>\n",
              "      <td>8.4583</td>\n",
              "      <td>NaN</td>\n",
              "      <td>Q</td>\n",
              "    </tr>\n",
              "  </tbody>\n",
              "</table>\n",
              "</div>"
            ],
            "text/plain": [
              "   PassengerId  Survived  Pclass  \\\n",
              "0            1       0.0       3   \n",
              "1            2       1.0       1   \n",
              "2            3       1.0       3   \n",
              "3            4       1.0       1   \n",
              "4            5       0.0       3   \n",
              "5            6       0.0       3   \n",
              "\n",
              "                                                Name     Sex   Age  SibSp  \\\n",
              "0                            Braund, Mr. Owen Harris    male  22.0      1   \n",
              "1  Cumings, Mrs. John Bradley (Florence Briggs Th...  female  38.0      1   \n",
              "2                             Heikkinen, Miss. Laina  female  26.0      0   \n",
              "3       Futrelle, Mrs. Jacques Heath (Lily May Peel)  female  35.0      1   \n",
              "4                           Allen, Mr. William Henry    male  35.0      0   \n",
              "5                                   Moran, Mr. James    male   NaN      0   \n",
              "\n",
              "   Parch            Ticket     Fare Cabin Embarked  \n",
              "0      0         A/5 21171   7.2500   NaN        S  \n",
              "1      0          PC 17599  71.2833   C85        C  \n",
              "2      0  STON/O2. 3101282   7.9250   NaN        S  \n",
              "3      0            113803  53.1000  C123        S  \n",
              "4      0            373450   8.0500   NaN        S  \n",
              "5      0            330877   8.4583   NaN        Q  "
            ]
          },
          "execution_count": 8,
          "metadata": {},
          "output_type": "execute_result"
        }
      ],
      "source": [
        "df.head(6)\n"
      ]
    },
    {
      "cell_type": "markdown",
      "id": "06d330bf",
      "metadata": {
        "id": "06d330bf"
      },
      "source": [
        "**Display How many rows and columns in the dataset**"
      ]
    },
    {
      "cell_type": "code",
      "execution_count": 9,
      "id": "8f7a2780",
      "metadata": {
        "id": "8f7a2780"
      },
      "outputs": [
        {
          "data": {
            "text/plain": [
              "(891, 12)"
            ]
          },
          "execution_count": 9,
          "metadata": {},
          "output_type": "execute_result"
        }
      ],
      "source": [
        "df.shape\n"
      ]
    },
    {
      "cell_type": "markdown",
      "id": "df6db721",
      "metadata": {
        "id": "df6db721"
      },
      "source": [
        "**What is the datatype of Pclass?**"
      ]
    },
    {
      "cell_type": "code",
      "execution_count": 11,
      "id": "5f3e3549",
      "metadata": {
        "id": "5f3e3549"
      },
      "outputs": [
        {
          "data": {
            "text/plain": [
              "dtype('int64')"
            ]
          },
          "execution_count": 11,
          "metadata": {},
          "output_type": "execute_result"
        }
      ],
      "source": [
        "df[\"Pclass\"].dtype\n"
      ]
    },
    {
      "cell_type": "markdown",
      "id": "cd281717",
      "metadata": {
        "id": "cd281717"
      },
      "source": [
        "**How many unique values in Embarked column?**"
      ]
    },
    {
      "cell_type": "code",
      "execution_count": 12,
      "id": "ebbd5d9b",
      "metadata": {
        "id": "ebbd5d9b"
      },
      "outputs": [
        {
          "data": {
            "text/plain": [
              "3"
            ]
          },
          "execution_count": 12,
          "metadata": {},
          "output_type": "execute_result"
        }
      ],
      "source": [
        "df[\"Embarked\"].nunique()\n"
      ]
    },
    {
      "cell_type": "markdown",
      "id": "fb5283e2",
      "metadata": {
        "id": "fb5283e2"
      },
      "source": [
        "**Check if there is any missing value in the dataset**   \n",
        "**Also, handle them with the most suitable option to each column or row**"
      ]
    },
    {
      "cell_type": "code",
      "execution_count": 13,
      "id": "f190d28d",
      "metadata": {
        "id": "f190d28d"
      },
      "outputs": [
        {
          "data": {
            "text/plain": [
              "PassengerId      0\n",
              "Survived         1\n",
              "Pclass           0\n",
              "Name             0\n",
              "Sex              1\n",
              "Age            177\n",
              "SibSp            0\n",
              "Parch            0\n",
              "Ticket           0\n",
              "Fare             1\n",
              "Cabin          687\n",
              "Embarked         3\n",
              "dtype: int64"
            ]
          },
          "execution_count": 13,
          "metadata": {},
          "output_type": "execute_result"
        }
      ],
      "source": [
        "df.isnull().sum()\n",
        "\n",
        "\n",
        "\n"
      ]
    },
    {
      "cell_type": "code",
      "execution_count": 15,
      "id": "47cd1640",
      "metadata": {
        "id": "47cd1640"
      },
      "outputs": [
        {
          "name": "stderr",
          "output_type": "stream",
          "text": [
            "C:\\Users\\Eyad-Laptop\\AppData\\Local\\Temp\\ipykernel_18596\\2097741607.py:1: FutureWarning: A value is trying to be set on a copy of a DataFrame or Series through chained assignment using an inplace method.\n",
            "The behavior will change in pandas 3.0. This inplace method will never work because the intermediate object on which we are setting values always behaves as a copy.\n",
            "\n",
            "For example, when doing 'df[col].method(value, inplace=True)', try using 'df.method({col: value}, inplace=True)' or df[col] = df[col].method(value) instead, to perform the operation inplace on the original object.\n",
            "\n",
            "\n",
            "  df[\"Age\"].fillna(df[\"Age\"].median(), inplace=True)\n"
          ]
        }
      ],
      "source": [
        "df[\"Age\"].fillna(df[\"Age\"].median(), inplace=True)"
      ]
    },
    {
      "cell_type": "code",
      "execution_count": 16,
      "id": "acfadbcb",
      "metadata": {
        "id": "acfadbcb"
      },
      "outputs": [
        {
          "name": "stderr",
          "output_type": "stream",
          "text": [
            "C:\\Users\\Eyad-Laptop\\AppData\\Local\\Temp\\ipykernel_18596\\122844256.py:1: FutureWarning: A value is trying to be set on a copy of a DataFrame or Series through chained assignment using an inplace method.\n",
            "The behavior will change in pandas 3.0. This inplace method will never work because the intermediate object on which we are setting values always behaves as a copy.\n",
            "\n",
            "For example, when doing 'df[col].method(value, inplace=True)', try using 'df.method({col: value}, inplace=True)' or df[col] = df[col].method(value) instead, to perform the operation inplace on the original object.\n",
            "\n",
            "\n",
            "  df[\"Embarked\"].fillna(df[\"Embarked\"].mode()[0], inplace=True)\n"
          ]
        }
      ],
      "source": [
        "df[\"Embarked\"].fillna(df[\"Embarked\"].mode()[0], inplace=True)"
      ]
    },
    {
      "cell_type": "markdown",
      "id": "bd719dac",
      "metadata": {
        "id": "bd719dac"
      },
      "source": [
        "**Handle any wrong datatype or data values**"
      ]
    },
    {
      "cell_type": "code",
      "execution_count": 18,
      "id": "2d702708",
      "metadata": {
        "id": "2d702708"
      },
      "outputs": [
        {
          "name": "stderr",
          "output_type": "stream",
          "text": [
            "C:\\Users\\Eyad-Laptop\\AppData\\Local\\Temp\\ipykernel_18596\\30414416.py:1: FutureWarning: A value is trying to be set on a copy of a DataFrame or Series through chained assignment using an inplace method.\n",
            "The behavior will change in pandas 3.0. This inplace method will never work because the intermediate object on which we are setting values always behaves as a copy.\n",
            "\n",
            "For example, when doing 'df[col].method(value, inplace=True)', try using 'df.method({col: value}, inplace=True)' or df[col] = df[col].method(value) instead, to perform the operation inplace on the original object.\n",
            "\n",
            "\n",
            "  df[\"Fare\"].fillna(df[\"Fare\"].median(), inplace=True)\n"
          ]
        }
      ],
      "source": [
        "df[\"Fare\"].fillna(df[\"Fare\"].median(), inplace=True)\n"
      ]
    },
    {
      "cell_type": "code",
      "execution_count": null,
      "id": "3d37128e",
      "metadata": {
        "id": "3d37128e"
      },
      "outputs": [],
      "source": []
    },
    {
      "cell_type": "markdown",
      "id": "5f9ec16e",
      "metadata": {
        "id": "5f9ec16e"
      },
      "source": [
        "**What is the relation between Pclass and Age?**"
      ]
    },
    {
      "cell_type": "code",
      "execution_count": null,
      "id": "74c60fbc",
      "metadata": {
        "id": "74c60fbc"
      },
      "outputs": [
        {
          "name": "stderr",
          "output_type": "stream",
          "text": [
            "C:\\Users\\Eyad-Laptop\\AppData\\Local\\Temp\\ipykernel_18596\\1148945845.py:1: FutureWarning: The default of observed=False is deprecated and will be changed to True in a future version of pandas. Pass observed=False to retain current behavior or observed=True to adopt the future default and silence this warning.\n",
            "  df.groupby(\"Pclass\")[\"Age\"].mean()  # Mean age for each passenger class\n"
          ]
        },
        {
          "data": {
            "text/plain": [
              "Pclass\n",
              "1    36.812130\n",
              "2    29.765380\n",
              "3    25.932627\n",
              "Name: Age, dtype: float64"
            ]
          },
          "execution_count": 19,
          "metadata": {},
          "output_type": "execute_result"
        }
      ],
      "source": [
        "df.groupby(\"Pclass\")[\"Age\"].mean()\n"
      ]
    },
    {
      "cell_type": "code",
      "execution_count": null,
      "id": "76348e8a",
      "metadata": {
        "id": "76348e8a"
      },
      "outputs": [],
      "source": []
    },
    {
      "cell_type": "markdown",
      "id": "648feb00",
      "metadata": {
        "id": "648feb00"
      },
      "source": [
        "**Is there any relation between Age and if someone will be Survived or not??**"
      ]
    },
    {
      "cell_type": "code",
      "execution_count": null,
      "id": "f4a96def",
      "metadata": {
        "id": "f4a96def"
      },
      "outputs": [
        {
          "data": {
            "text/plain": [
              "Survived\n",
              "0.0    30.026460\n",
              "1.0    28.291433\n",
              "Name: Age, dtype: float64"
            ]
          },
          "execution_count": 20,
          "metadata": {},
          "output_type": "execute_result"
        }
      ],
      "source": [
        "df.groupby(\"Survived\")[\"Age\"].mean()\n"
      ]
    }
  ],
  "metadata": {
    "colab": {
      "provenance": []
    },
    "kernelspec": {
      "display_name": "Python 3",
      "language": "python",
      "name": "python3"
    },
    "language_info": {
      "codemirror_mode": {
        "name": "ipython",
        "version": 3
      },
      "file_extension": ".py",
      "mimetype": "text/x-python",
      "name": "python",
      "nbconvert_exporter": "python",
      "pygments_lexer": "ipython3",
      "version": "3.13.2"
    }
  },
  "nbformat": 4,
  "nbformat_minor": 5
}
